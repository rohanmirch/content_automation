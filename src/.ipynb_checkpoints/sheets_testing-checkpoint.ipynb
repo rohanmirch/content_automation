{
 "cells": [
  {
   "cell_type": "code",
   "execution_count": 36,
   "metadata": {
    "collapsed": true
   },
   "outputs": [],
   "source": [
    "from __future__ import print_function\n",
    "\n",
    "import os.path\n",
    "\n",
    "from google.auth.transport.requests import Request\n",
    "from google.oauth2.credentials import Credentials\n",
    "from google_auth_oauthlib.flow import InstalledAppFlow\n",
    "from googleapiclient.discovery import build\n",
    "from googleapiclient.errors import HttpError\n",
    "\n",
    "# If modifying these scopes, delete the file token.json.\n",
    "SCOPES = ['https://www.googleapis.com/auth/spreadsheets']\n",
    "\n",
    "\n",
    "#[\"https://spreadsheets.google.com/feeds\", 'https://www.googleapis.com/auth/spreadsheets',\n",
    "#\"https://www.googleapis.com/auth/drive.file\", \"https://www.googleapis.com/auth/drive\"]\n",
    "\n",
    "# The ID and range of a sample spreadsheet.\n",
    "SPREADSHEET_ID = '1lm6ngv02kq97fprhbTa98lI3fI5U9Pr6dPweEkitZeo'\n",
    "SAMPLE_RANGE_NAME = 'A:Z'\n",
    "\n",
    "# https://googleapis.github.io/google-api-python-client/docs/dyn/sheets_v4.spreadsheets.html\n",
    "# API reference https://developers.google.com/sheets/api/reference/rest"
   ]
  },
  {
   "cell_type": "code",
   "execution_count": null,
   "metadata": {
    "collapsed": true
   },
   "outputs": [],
   "source": []
  },
  {
   "cell_type": "code",
   "execution_count": 10,
   "metadata": {},
   "outputs": [],
   "source": [
    "def main():\n",
    "    \"\"\"Shows basic usage of the Sheets API.\n",
    "        Prints values from a sample spreadsheet.\n",
    "        \"\"\"\n",
    "    creds = None\n",
    "    # The file token.json stores the user's access and refresh tokens, and is\n",
    "    # created automatically when the authorization flow completes for the first\n",
    "    # time.\n",
    "    if os.path.exists('token.json'):\n",
    "        creds = Credentials.from_authorized_user_file('token.json', SCOPES)\n",
    "    # If there are no (valid) credentials available, let the user log in.\n",
    "    if not creds or not creds.valid:\n",
    "        if creds and creds.expired and creds.refresh_token:\n",
    "            creds.refresh(Request())\n",
    "        else:\n",
    "            flow = InstalledAppFlow.from_client_secrets_file(\n",
    "                'client_secrets.json', SCOPES)\n",
    "            creds = flow.run_local_server(port=0)\n",
    "        # Save the credentials for the next run\n",
    "        with open('token.json', 'w') as token:\n",
    "            token.write(creds.to_json())\n",
    "\n",
    "    try:\n",
    "        service = build('sheets', 'v4', credentials=creds)\n",
    "\n",
    "        # Call the Sheets API\n",
    "        sheet = service.spreadsheets()\n",
    "        result = sheet.values().get(spreadsheetId=SAMPLE_SPREADSHEET_ID,\n",
    "                                    range=SAMPLE_RANGE_NAME).execute()\n",
    "        values = result.get('values', [])\n",
    "\n",
    "        if not values:\n",
    "            print('No data found.')\n",
    "            return\n",
    "\n",
    "        print('Name, Major:')\n",
    "        for row in values:\n",
    "            # Print columns A and E, which correspond to indices 0 and 4.\n",
    "            print('%s, %s' % (row[0], row[4]))\n",
    "    except HttpError as err:\n",
    "        print(err)\n"
   ]
  },
  {
   "cell_type": "code",
   "execution_count": 11,
   "metadata": {},
   "outputs": [
    {
     "name": "stdout",
     "output_type": "stream",
     "text": [
      "Name, Major:\n",
      "1, 1\n",
      "1, 1\n",
      "1, 1\n",
      "1, 1\n",
      "1, 1\n",
      "1, 1\n",
      "1, 1\n",
      "1, 1\n",
      "1, 1\n",
      "1, 1\n",
      "1, 1\n",
      "1, 1\n",
      "1, 1\n",
      "1, 1\n",
      "1, 1\n"
     ]
    }
   ],
   "source": [
    "main()"
   ]
  },
  {
   "cell_type": "code",
   "execution_count": 15,
   "metadata": {
    "collapsed": true
   },
   "outputs": [],
   "source": [
    "def get_authenticated_sheets_service():\n",
    "    creds = None\n",
    "    # The file token.json stores the user's access and refresh tokens, and is\n",
    "    # created automatically when the authorization flow completes for the first\n",
    "    # time.\n",
    "    if os.path.exists('token.json'):\n",
    "        creds = Credentials.from_authorized_user_file('token.json', SCOPES)\n",
    "    # If there are no (valid) credentials available, let the user log in.\n",
    "    if not creds or not creds.valid:\n",
    "        if creds and creds.expired and creds.refresh_token:\n",
    "            creds.refresh(Request())\n",
    "        else:\n",
    "            flow = InstalledAppFlow.from_client_secrets_file(\n",
    "                'client_secrets.json', SCOPES)\n",
    "            creds = flow.run_local_server(port=0)\n",
    "        # Save the credentials for the next run\n",
    "        with open('token.json', 'w') as token:\n",
    "            token.write(creds.to_json())\n",
    "\n",
    "    try:\n",
    "        service = build('sheets', 'v4', credentials=creds)\n",
    "        print(\"Authenticated into google sheets\")\n",
    "        return service\n",
    "    \n",
    "    except HttpError as err:\n",
    "        \n",
    "        print(err)\n",
    "        return\n",
    "    "
   ]
  },
  {
   "cell_type": "code",
   "execution_count": 16,
   "metadata": {},
   "outputs": [
    {
     "name": "stdout",
     "output_type": "stream",
     "text": [
      "Authenticated into google sheets\n"
     ]
    }
   ],
   "source": [
    "service = get_authenticated_sheets_service()"
   ]
  },
  {
   "cell_type": "code",
   "execution_count": null,
   "metadata": {
    "collapsed": true
   },
   "outputs": [],
   "source": [
    "SHEET_ID = 0"
   ]
  },
  {
   "cell_type": "code",
   "execution_count": 37,
   "metadata": {},
   "outputs": [
    {
     "name": "stdout",
     "output_type": "stream",
     "text": [
      "16 rows retrieved\n"
     ]
    }
   ],
   "source": [
    "result = service.spreadsheets().values().get(\n",
    "            spreadsheetId=SPREADSHEET_ID, range=SAMPLE_RANGE_NAME).execute()\n",
    "    \n",
    "rows = result.get('values', [])\n",
    "print(f\"{len(rows)} rows retrieved\")"
   ]
  },
  {
   "cell_type": "code",
   "execution_count": 38,
   "metadata": {},
   "outputs": [
    {
     "data": {
      "text/plain": [
       "[['1',\n",
       "  '2023-01-01 0:00:00',\n",
       "  '2023-01-01 15:02:00',\n",
       "  '2023-01-01 15:39:00',\n",
       "  'blade_runner_synth.mp3',\n",
       "  'https://www.pexels.com/video/a-sunset-time-lapse-8035714/',\n",
       "  'Fun facts you need to know #facts #shorts',\n",
       "  'Comment which one is your favorite.',\n",
       "  'facts, crazy, cool, funny',\n",
       "  'Crazy facts you need to know (part 1)',\n",
       "  'Potato chips cause more weight gain than any other food',\n",
       "  'Our brains make up on average 2% of our body weight but consume 20% of our caloric intake',\n",
       "  \"If a bee consumes alcohol and gets drunk, he won’t be let back into the hive until he's sober.\"],\n",
       " ['2',\n",
       "  '2023-01-02 0:00:00',\n",
       "  '2023-01-02 14:54:00',\n",
       "  '2023-01-02 14:58:00',\n",
       "  'blade_runner_synth.mp3',\n",
       "  'https://www.pexels.com/video/top-view-of-sea-waves-crashing-on-seashore-6775423/',\n",
       "  'Fun facts you need to know (part 2) #facts #shorts',\n",
       "  'Comment which one is your favorite.',\n",
       "  'facts, fun, knowledge, funny',\n",
       "  'Crazy facts you need to know (part 2)',\n",
       "  'If you sneeze too hard, you could fracture a rib.',\n",
       "  'Wearing headphones for just an hour could increase the bacteria in your ear by 700 times.',\n",
       "  'In the course of an average lifetime, while sleeping you might eat around 70 assorted insects and 10 spiders, or more.'],\n",
       " ['3',\n",
       "  '2023-01-02 0:00:00',\n",
       "  '2023-01-02 14:58:00',\n",
       "  '2023-01-02 14:58:00',\n",
       "  'blade_runner_synth.mp3',\n",
       "  'https://www.pexels.com/video/a-sunset-time-lapse-8035714/',\n",
       "  'Fun facts you need to know #facts #shorts #funny',\n",
       "  'Comment which one is your favorite.',\n",
       "  'facts, crazy, fun, funny, knowledge',\n",
       "  'Fun facts you need to know (part 1)',\n",
       "  'Potato chips cause more weight gain than any other food',\n",
       "  'Our brains make up on average 2% of our body weight but consume 20% of our caloric intake',\n",
       "  \"If a bee consumes alcohol and gets drunk, he won’t be let back into the hive until he's sober.\"],\n",
       " ['4',\n",
       "  '2023-01-03 0:00:00',\n",
       "  '2023-01-03 17:32:00',\n",
       "  '2023-01-03 17:36:00',\n",
       "  'blade_runner_synth.mp3',\n",
       "  'https://www.pexels.com/video/aerial-footage-of-the-palace-of-culture-and-science-building-in-warsaw-poland-7312218/',\n",
       "  'Crazy facts about your body (Part 1) #facts #shorts #funny #tiktok',\n",
       "  'Comment which one is your favorite.',\n",
       "  'facts, crazy, fun, funny, knowledge',\n",
       "  'Mind-blowing facts about the human body (part 1)',\n",
       "  'When you cry and your nose becomes runny, it’s actually your tears.',\n",
       "  'Your brain blocks you from feeling your organs moving around inside you.',\n",
       "  'Your body can randomly decide to become allergic to anything edible at any time.'],\n",
       " ['5',\n",
       "  '2023-01-04 0:00:00',\n",
       "  '2023-01-03 17:35:00',\n",
       "  '2023-01-03 17:36:00',\n",
       "  'blade_runner_synth.mp3',\n",
       "  'https://www.pexels.com/video/drone-footage-of-a-desert-sand-dune-3059046/',\n",
       "  'Fun facts you need to know (part 3) #facts #shorts #foryou #funny',\n",
       "  'Comment which one is your favorite.',\n",
       "  'facts, crazy, fun, funny, knowledge',\n",
       "  'Fun facts you need to know (part 3)',\n",
       "  'The United States has lost 6 nuclear weapons over the past century.',\n",
       "  'Making your bed everyday exposes bed mites to fresh air, which makes them flourish.',\n",
       "  'When a person receives a kidney transplant, they don’t take out the old kidneys. They shove them to the side and leave'],\n",
       " ['6',\n",
       "  '2023-01-04 0:00:00',\n",
       "  '2023-01-05 0:35:00',\n",
       "  '2023-01-03 17:36:01',\n",
       "  'paris.mp3',\n",
       "  'https://www.pexels.com/video/video-of-cascading-waterfall-8859849/',\n",
       "  'Crazy facts you need to know #facts #shorts #foryou #crazy',\n",
       "  'Comment which one is your favorite.',\n",
       "  'facts, crazy, fun, funny, knowledge',\n",
       "  'Crazy facts you need to know (part 3)',\n",
       "  'If a Polar Bear and a Grizzly Bear mate, their offspring is called a “Pizzly Bear.”',\n",
       "  'The only letter that doesn’t appear on the periodic table is J.',\n",
       "  'There were two AI chatbots created by Facebook to talk to each other, but they were shut down after they started communicating in a language they made for themselves.'],\n",
       " ['7',\n",
       "  '2023-01-05 0:00:00',\n",
       "  '2023-01-05 0:41:00',\n",
       "  '2023-01-05 0:59:00',\n",
       "  'paris_drill_trimmed.mp3',\n",
       "  'https://www.pexels.com/video/aerial-footage-of-the-palace-of-culture-and-science-building-in-warsaw-poland-7312218/',\n",
       "  'Fun facts you need to know (part 2) #facts #shorts',\n",
       "  'Comment which one is your favorite.',\n",
       "  'facts, fun, knowledge, funny',\n",
       "  'Crazy facts you need to know (part 2)',\n",
       "  'If you sneeze too hard, you could fracture a rib.',\n",
       "  'Wearing headphones for just an hour could increase the bacteria in your ear by 700 times.',\n",
       "  'In the course of an average lifetime, while sleeping you might eat around 70 assorted insects and 10 spiders, or more.'],\n",
       " ['8', '2023-01-05 0:00:00'],\n",
       " ['9', '2023-01-06 0:00:00'],\n",
       " ['10', '2023-01-07 0:00:00'],\n",
       " ['', '2023-01-08 0:00:00'],\n",
       " ['', '2023-01-09 0:00:00'],\n",
       " ['', '2023-01-10 0:00:00'],\n",
       " ['', '2023-01-11 0:00:00'],\n",
       " ['', '2023-01-12 0:00:00'],\n",
       " ['', '2023-01-13 0:00:00']]"
      ]
     },
     "execution_count": 38,
     "metadata": {},
     "output_type": "execute_result"
    }
   ],
   "source": [
    "rows"
   ]
  },
  {
   "cell_type": "code",
   "execution_count": 35,
   "metadata": {},
   "outputs": [
    {
     "ename": "AttributeError",
     "evalue": "'Resource' object has no attribute 'values'",
     "output_type": "error",
     "traceback": [
      "\u001b[0;31m---------------------------------------------------------------------------\u001b[0m",
      "\u001b[0;31mAttributeError\u001b[0m                            Traceback (most recent call last)",
      "\u001b[0;32m<ipython-input-35-5667cd9e6168>\u001b[0m in \u001b[0;36m<module>\u001b[0;34m()\u001b[0m\n\u001b[0;32m----> 1\u001b[0;31m \u001b[0mprint\u001b[0m\u001b[0;34m(\u001b[0m\u001b[0mservice\u001b[0m\u001b[0;34m.\u001b[0m\u001b[0mspreadsheets\u001b[0m\u001b[0;34m(\u001b[0m\u001b[0;34m)\u001b[0m\u001b[0;34m.\u001b[0m\u001b[0msheets\u001b[0m\u001b[0;34m(\u001b[0m\u001b[0;34m)\u001b[0m\u001b[0;34m.\u001b[0m\u001b[0mvalues\u001b[0m\u001b[0;34m(\u001b[0m\u001b[0;34m)\u001b[0m\u001b[0;34m)\u001b[0m\u001b[0;34m\u001b[0m\u001b[0;34m\u001b[0m\u001b[0m\n\u001b[0m",
      "\u001b[0;31mAttributeError\u001b[0m: 'Resource' object has no attribute 'values'"
     ]
    }
   ],
   "source": [
    "print(service.spreadsheets().sheets().values())"
   ]
  },
  {
   "cell_type": "code",
   "execution_count": null,
   "metadata": {
    "collapsed": true
   },
   "outputs": [],
   "source": []
  }
 ],
 "metadata": {
  "kernelspec": {
   "display_name": "Python 3",
   "language": "python",
   "name": "python3"
  },
  "language_info": {
   "codemirror_mode": {
    "name": "ipython",
    "version": 3
   },
   "file_extension": ".py",
   "mimetype": "text/x-python",
   "name": "python",
   "nbconvert_exporter": "python",
   "pygments_lexer": "ipython3",
   "version": "3.6.10"
  }
 },
 "nbformat": 4,
 "nbformat_minor": 2
}
